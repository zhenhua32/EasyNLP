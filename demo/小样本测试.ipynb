{
 "cells": [
  {
   "cell_type": "code",
   "execution_count": 2,
   "metadata": {},
   "outputs": [],
   "source": [
    "import os\n",
    "import json\n",
    "import pandas as pd\n",
    "\n",
    "from transformers import AutoTokenizer\n",
    "\n",
    "import sys\n",
    "sys.path.append(\"../\")\n",
    "import easynlp\n",
    "from easynlp.appzoo import FewshotSequenceClassificationDataset\n",
    "# from easynlp.fewshot_learning import FewshotBaseDataset"
   ]
  },
  {
   "cell_type": "code",
   "execution_count": 2,
   "metadata": {},
   "outputs": [],
   "source": [
    "tokenizer = AutoTokenizer.from_pretrained(r\"G:\\code\\pretrain_model_dir\\bert-base-chinese\")"
   ]
  },
  {
   "cell_type": "code",
   "execution_count": 3,
   "metadata": {},
   "outputs": [
    {
     "data": {
      "text/plain": [
       "{'input_ids': [101, 143, 704, 1744, 100, 102], 'token_type_ids': [0, 0, 0, 0, 0, 0], 'attention_mask': [1, 1, 1, 1, 1, 1]}"
      ]
     },
     "execution_count": 3,
     "metadata": {},
     "output_type": "execute_result"
    }
   ],
   "source": [
    "tokenizer(\"a中国A\")"
   ]
  },
  {
   "cell_type": "code",
   "execution_count": 4,
   "metadata": {},
   "outputs": [
    {
     "data": {
      "text/plain": [
       "['[CLS]', 'a', '中', '国', '[UNK]', '[SEP]']"
      ]
     },
     "execution_count": 4,
     "metadata": {},
     "output_type": "execute_result"
    }
   ],
   "source": [
    "tokenizer.convert_ids_to_tokens([101, 143, 704, 1744, 100, 102])"
   ]
  },
  {
   "cell_type": "code",
   "execution_count": 6,
   "metadata": {},
   "outputs": [
    {
     "name": "stdout",
     "output_type": "stream",
     "text": [
      "****./tmp/fewshot_data/train.csv\n"
     ]
    }
   ],
   "source": [
    "dataset = FewshotSequenceClassificationDataset(\n",
    "    pretrained_model_name_or_path= r\"G:\\code\\pretrain_model_dir\\pai-bert-base-zh\",\n",
    "    data_file=\"./tmp/fewshot_data/train.csv\",\n",
    "    max_seq_length=32,\n",
    "    first_sequence=\"text\",\n",
    "    input_schema=\"text:str:1,label:str:1\",\n",
    "    label_name=\"label\",\n",
    "    label_enumerate_values=\"Positive,Negative\",\n",
    "    user_defined_parameters={\n",
    "        \"app_parameters\": {\n",
    "            \"label_desc\": \"好,差\",\n",
    "            \"pattern\": \"text,是一条商品,label,评\",\n",
    "        },\n",
    "    },\n",
    ")"
   ]
  },
  {
   "cell_type": "code",
   "execution_count": 9,
   "metadata": {},
   "outputs": [
    {
     "data": {
      "text/plain": [
       "32"
      ]
     },
     "execution_count": 9,
     "metadata": {},
     "output_type": "execute_result"
    }
   ],
   "source": []
  }
 ],
 "metadata": {
  "kernelspec": {
   "display_name": "venv",
   "language": "python",
   "name": "python3"
  },
  "language_info": {
   "codemirror_mode": {
    "name": "ipython",
    "version": 3
   },
   "file_extension": ".py",
   "mimetype": "text/x-python",
   "name": "python",
   "nbconvert_exporter": "python",
   "pygments_lexer": "ipython3",
   "version": "3.8.12"
  },
  "orig_nbformat": 4
 },
 "nbformat": 4,
 "nbformat_minor": 2
}
